{
 "cells": [
  {
   "cell_type": "code",
   "execution_count": 1,
   "metadata": {},
   "outputs": [],
   "source": [
    "import torch"
   ]
  },
  {
   "cell_type": "code",
   "execution_count": 2,
   "metadata": {},
   "outputs": [],
   "source": [
    "import torchvision"
   ]
  },
  {
   "cell_type": "code",
   "execution_count": 3,
   "metadata": {},
   "outputs": [
    {
     "name": "stdout",
     "output_type": "stream",
     "text": [
      "False\n"
     ]
    }
   ],
   "source": [
    "# It is false because there is no GPU as we are using CPU\n",
    "print (torch.cuda.is_available())\n"
   ]
  },
  {
   "cell_type": "markdown",
   "metadata": {},
   "source": [
    "# Torch Tensors"
   ]
  },
  {
   "cell_type": "code",
   "execution_count": 4,
   "metadata": {},
   "outputs": [
    {
     "name": "stdout",
     "output_type": "stream",
     "text": [
      "tensor([2, 3, 1])\n"
     ]
    }
   ],
   "source": [
    "# This is a 1-D Tensor\n",
    "a = torch.tensor([2,3,1])\n",
    "print (a)"
   ]
  },
  {
   "cell_type": "code",
   "execution_count": 7,
   "metadata": {},
   "outputs": [
    {
     "name": "stdout",
     "output_type": "stream",
     "text": [
      "tensor([[2, 3, 1],\n",
      "        [2, 3, 1],\n",
      "        [2, 3, 1]])\n"
     ]
    }
   ],
   "source": [
    "b = torch.tensor([[2,3,1],[2,3,1],[2,3,1]])\n",
    "print (b)"
   ]
  },
  {
   "cell_type": "code",
   "execution_count": 8,
   "metadata": {},
   "outputs": [
    {
     "name": "stdout",
     "output_type": "stream",
     "text": [
      "torch.Size([3])\n",
      "torch.Size([3, 3])\n",
      "torch.Size([3])\n",
      "torch.Size([3])\n"
     ]
    }
   ],
   "source": [
    "# The size of the tensors\n",
    "print (a.shape)\n",
    "print (b.shape)\n",
    "print (a.size())\n",
    "print (a.size())"
   ]
  },
  {
   "cell_type": "code",
   "execution_count": 9,
   "metadata": {},
   "outputs": [
    {
     "name": "stdout",
     "output_type": "stream",
     "text": [
      "3\n"
     ]
    }
   ],
   "source": [
    "# Get the number of rows of b\n",
    "print (b.shape[0])"
   ]
  },
  {
   "cell_type": "code",
   "execution_count": 11,
   "metadata": {},
   "outputs": [
    {
     "name": "stdout",
     "output_type": "stream",
     "text": [
      "tensor([[2., 3., 1.],\n",
      "        [2., 3., 1.],\n",
      "        [2., 3., 1.]])\n"
     ]
    }
   ],
   "source": [
    "# Get the float tensor\n",
    "c = torch.FloatTensor([[2,3,1],[2,3,1],[2,3,1]])\n",
    "print (c)"
   ]
  },
  {
   "cell_type": "code",
   "execution_count": 13,
   "metadata": {},
   "outputs": [
    {
     "name": "stdout",
     "output_type": "stream",
     "text": [
      "tensor([[2., 3., 1.],\n",
      "        [2., 3., 1.],\n",
      "        [2., 3., 1.]], dtype=torch.float64)\n",
      "torch.float64\n"
     ]
    }
   ],
   "source": [
    "# Get the double tensor\n",
    "d = torch.DoubleTensor([[2,3,1],[2,3,1],[2,3,1]])\n",
    "print (d)\n",
    "print (d.dtype)"
   ]
  },
  {
   "cell_type": "code",
   "execution_count": 14,
   "metadata": {},
   "outputs": [
    {
     "name": "stdout",
     "output_type": "stream",
     "text": [
      "tensor(2.)\n"
     ]
    }
   ],
   "source": [
    "print (c.mean())"
   ]
  },
  {
   "cell_type": "code",
   "execution_count": 15,
   "metadata": {
    "scrolled": true
   },
   "outputs": [
    {
     "name": "stdout",
     "output_type": "stream",
     "text": [
      "tensor(0.8660)\n"
     ]
    }
   ],
   "source": [
    "print (c.std())"
   ]
  },
  {
   "cell_type": "code",
   "execution_count": 22,
   "metadata": {},
   "outputs": [
    {
     "name": "stdout",
     "output_type": "stream",
     "text": [
      "tensor([[2],\n",
      "        [3],\n",
      "        [1],\n",
      "        [2],\n",
      "        [3],\n",
      "        [1],\n",
      "        [2],\n",
      "        [3],\n",
      "        [1]])\n",
      "tensor([2, 3, 1, 2, 3, 1, 2, 3, 1])\n",
      "tensor([[2, 3, 1],\n",
      "        [2, 3, 1],\n",
      "        [2, 3, 1]])\n",
      "tensor([[2, 3, 1],\n",
      "        [2, 3, 1],\n",
      "        [2, 3, 1]])\n",
      "tensor([[2],\n",
      "        [3],\n",
      "        [1],\n",
      "        [2],\n",
      "        [3],\n",
      "        [1],\n",
      "        [2],\n",
      "        [3],\n",
      "        [1]])\n",
      "torch.Size([9, 1])\n",
      "\n",
      "\n",
      "\n",
      "\n",
      "tensor([[-0.7145, -0.6491,  1.6036,  1.5066, -0.8156, -1.0339, -2.5288, -0.5609,\n",
      "          0.4193,  1.0490,  0.6291,  1.3749],\n",
      "        [ 1.0916, -2.0921,  0.2560,  0.3726,  1.7806, -0.9531,  0.0686,  1.4651,\n",
      "          0.7138, -0.0122, -0.3405, -1.4754]])\n",
      "\n",
      "\n",
      "tensor([[-0.7145, -0.6491,  1.6036,  1.5066, -0.8156, -1.0339, -2.5288, -0.5609,\n",
      "          0.4193,  1.0490,  0.6291,  1.3749],\n",
      "        [ 1.0916, -2.0921,  0.2560,  0.3726,  1.7806, -0.9531,  0.0686,  1.4651,\n",
      "          0.7138, -0.0122, -0.3405, -1.4754]])\n"
     ]
    }
   ],
   "source": [
    "# Reshape b\n",
    "# Note: if one o fthe dimensions is -1, its size can be inferre d\n",
    "print (b.view(-1,1))\n",
    "print (b.view(9))\n",
    "print (b.view(-1,3))\n",
    "print (b.view(3,3))\n",
    "\n",
    "# Assign b a new shape\n",
    "b = b.view(-1,1)\n",
    "print (b)\n",
    "print (b.shape)\n",
    "\n",
    "#We can even reshape 3D tensors\n",
    "print ('\\n')\n",
    "\n",
    "#Create a 3D Tensor with 2 channels, 3 row and 4 columns (channels,rows, columns)\n",
    "three_dim = torch.randn(2,3,4)\n",
    "\n",
    "print ('\\n')\n",
    "print(three_dim.view(2,12)) #Reshape to 2 rows, 12 columns\n",
    "print ('\\n')\n",
    "print(three_dim.view(2,-1))\n"
   ]
  },
  {
   "cell_type": "code",
   "execution_count": 23,
   "metadata": {},
   "outputs": [
    {
     "name": "stdout",
     "output_type": "stream",
     "text": [
      "tensor([[0.6918, 0.7657, 0.7296, 0.2095],\n",
      "        [0.3749, 0.6463, 0.8426, 0.4882],\n",
      "        [0.3074, 0.9316, 0.1596, 0.2673],\n",
      "        [0.0700, 0.1975, 0.9031, 0.0037]])\n"
     ]
    }
   ],
   "source": [
    "# Create a matrix with random numbers between 0 and 1.\n",
    "r = torch.rand(4,4)\n",
    "print (r)"
   ]
  },
  {
   "cell_type": "code",
   "execution_count": 24,
   "metadata": {},
   "outputs": [
    {
     "name": "stdout",
     "output_type": "stream",
     "text": [
      "tensor([[ 0.5418,  0.2757,  0.3207, -0.8429],\n",
      "        [-1.5594,  0.5978, -0.4721,  0.0557],\n",
      "        [-1.4402,  0.0494,  0.6751,  0.3709],\n",
      "        [-0.5511, -1.6274,  1.3308, -1.4401]])\n",
      "torch.float32\n"
     ]
    }
   ],
   "source": [
    "#Create a matrix with random numbers taken from a normal distribution with mean 0 and variance 1\n",
    "r2 = torch.randn(4,4)\n",
    "print (r2)\n",
    "print (r2.dtype)"
   ]
  },
  {
   "cell_type": "code",
   "execution_count": 25,
   "metadata": {},
   "outputs": [
    {
     "name": "stdout",
     "output_type": "stream",
     "text": [
      "tensor([6, 6, 6, 6, 8])\n",
      "torch.int64\n"
     ]
    }
   ],
   "source": [
    "# Create an array of 5 random integers from values between 6 and 9 (exlusive of 10)\n",
    "in_array = torch.randint(6, 10, (5,))\n",
    "print (in_array)\n",
    "print (in_array.dtype)"
   ]
  },
  {
   "cell_type": "code",
   "execution_count": 26,
   "metadata": {},
   "outputs": [
    {
     "name": "stdout",
     "output_type": "stream",
     "text": [
      "tensor([[9, 9, 9],\n",
      "        [9, 7, 7],\n",
      "        [6, 8, 6]])\n"
     ]
    }
   ],
   "source": [
    "# Create a 2-D array (or matrix) of size 3x3 filled with random integers from values between 6 and 9 (exclusive of 10)\n",
    "in_array2 = torch.randint(6, 10, (3,3))\n",
    "print (in_array2)"
   ]
  },
  {
   "cell_type": "code",
   "execution_count": 27,
   "metadata": {},
   "outputs": [
    {
     "name": "stdout",
     "output_type": "stream",
     "text": [
      "5\n",
      "9\n"
     ]
    }
   ],
   "source": [
    "#Get the number of elements in in_array\n",
    "print (torch.numel(in_array))\n",
    "\n",
    "#Get the number of elements in in_array2\n",
    "print (torch.numel(in_array2))\n",
    "\n"
   ]
  },
  {
   "cell_type": "code",
   "execution_count": 28,
   "metadata": {},
   "outputs": [
    {
     "name": "stdout",
     "output_type": "stream",
     "text": [
      "tensor([[0, 0, 0],\n",
      "        [0, 0, 0],\n",
      "        [0, 0, 0]])\n",
      "tensor([[1., 1., 1.],\n",
      "        [1., 1., 1.],\n",
      "        [1., 1., 1.]])\n",
      "torch.float32\n"
     ]
    }
   ],
   "source": [
    "#Construct a 3x3 matrix of zeros and of dtype long:\n",
    "z = torch.zeros(3, 3, dtype=torch.long)\n",
    "print(z)\n",
    "\n",
    "#Construct a 3x3 matrix of ones\n",
    "\n",
    "o = torch.ones(3,3)\n",
    "print (o)\n",
    "print (o.dtype)"
   ]
  },
  {
   "cell_type": "code",
   "execution_count": 29,
   "metadata": {
    "scrolled": true
   },
   "outputs": [
    {
     "name": "stdout",
     "output_type": "stream",
     "text": [
      "tensor([[-0.3445,  0.4236,  1.4530,  0.0037],\n",
      "        [-1.0386, -0.8374, -2.0150,  1.1276],\n",
      "        [ 0.6289,  1.1490, -1.2858, -0.4734],\n",
      "        [-1.2531,  0.9861,  0.2464,  0.3150]], dtype=torch.float64)\n"
     ]
    }
   ],
   "source": [
    "r2_like = torch.randn_like(r2, dtype=torch.double) #convert the data type of the tensor\n",
    "print (r2_like)"
   ]
  },
  {
   "cell_type": "code",
   "execution_count": 30,
   "metadata": {},
   "outputs": [
    {
     "name": "stdout",
     "output_type": "stream",
     "text": [
      "tensor([[ 1.2336,  1.0414,  1.0504, -0.6334],\n",
      "        [-1.1845,  1.2441,  0.3705,  0.5439],\n",
      "        [-1.1328,  0.9810,  0.8347,  0.6383],\n",
      "        [-0.4811, -1.4299,  2.2340, -1.4364]])\n"
     ]
    }
   ],
   "source": [
    "# Add two tensors, make sure they ar ethe same size and data type\n",
    "add_result = torch.add(r,r2)\n",
    "print (add_result)"
   ]
  },
  {
   "cell_type": "code",
   "execution_count": 31,
   "metadata": {},
   "outputs": [
    {
     "name": "stdout",
     "output_type": "stream",
     "text": [
      "tensor([[ 0.5418,  0.2757,  0.3207, -0.8429],\n",
      "        [-1.5594,  0.5978, -0.4721,  0.0557],\n",
      "        [-1.4402,  0.0494,  0.6751,  0.3709],\n",
      "        [-0.5511, -1.6274,  1.3308, -1.4401]])\n"
     ]
    }
   ],
   "source": [
    "#In-place addition (change the value of r2)\n",
    "r2.add(r)  #r2 = torch.add(r,r2)\n",
    "print(r2)"
   ]
  },
  {
   "cell_type": "code",
   "execution_count": 32,
   "metadata": {},
   "outputs": [
    {
     "name": "stdout",
     "output_type": "stream",
     "text": [
      "tensor([ 0.2757,  0.5978,  0.0494, -1.6274])\n",
      "tensor([[ 0.5418,  0.2757],\n",
      "        [-1.5594,  0.5978],\n",
      "        [-1.4402,  0.0494],\n",
      "        [-0.5511, -1.6274]])\n",
      "tensor([[ 0.5418,  0.2757,  0.3207, -0.8429],\n",
      "        [-1.5594,  0.5978, -0.4721,  0.0557],\n",
      "        [-1.4402,  0.0494,  0.6751,  0.3709]])\n",
      "tensor(0.3709)\n",
      "0.3709176480770111\n",
      "tensor([-1.4402,  0.0494,  0.6751,  0.3709])\n"
     ]
    }
   ],
   "source": [
    "print (r2[:,1])\n",
    "print (r2[:,:2])\n",
    "print (r2[:3,:])\n",
    "num_ten = r2[2,3]\n",
    "print (num_ten)\n",
    "print (num_ten.item())\n",
    "print (r2[2,:])"
   ]
  }
 ],
 "metadata": {
  "kernelspec": {
   "display_name": "Python 3",
   "language": "python",
   "name": "python3"
  },
  "language_info": {
   "codemirror_mode": {
    "name": "ipython",
    "version": 3
   },
   "file_extension": ".py",
   "mimetype": "text/x-python",
   "name": "python",
   "nbconvert_exporter": "python",
   "pygments_lexer": "ipython3",
   "version": "3.7.4"
  }
 },
 "nbformat": 4,
 "nbformat_minor": 2
}
