{
 "cells": [
  {
   "cell_type": "markdown",
   "metadata": {},
   "source": [
    "# Building a Chatbot : PyTorch\n",
    "__NOTE:__ This code has been adopted from https://pytorch.org/tutorials/chatbot_tutorial.html. We will demonstrate more details and observe the output step-by-step to have a deeper understanding. Extra diagrams to dive deeper into the architectures used will also be provided!"
   ]
  },
  {
   "cell_type": "code",
   "execution_count": 1,
   "metadata": {},
   "outputs": [],
   "source": [
    "# importing the libraries\n",
    "import torch\n",
    "import torch.nn as nn\n",
    "from torch import optim\n",
    "import torch.nn.functional as F\n",
    "import csv\n",
    "import random\n",
    "import re\n",
    "import os\n",
    "import unicodedata\n",
    "import codecs\n",
    "import itertools"
   ]
  },
  {
   "cell_type": "code",
   "execution_count": 2,
   "metadata": {},
   "outputs": [],
   "source": [
    "CUDA = torch.cuda.is_available()\n",
    "device = torch.device(\"cuda\" if CUDA else \"cpu\")"
   ]
  },
  {
   "cell_type": "markdown",
   "metadata": {},
   "source": [
    "## Part 1: Data Processing"
   ]
  },
  {
   "cell_type": "code",
   "execution_count": 3,
   "metadata": {},
   "outputs": [],
   "source": [
    "lines_filepath = os.path.join(\"cornell movie-dialogs corpus\", \"movie_lines.txt\")\n",
    "conv_filepath = os.path.join(\"cornell movie-dialogs corpus\", \"movie_conversations.txt\")\n"
   ]
  },
  {
   "cell_type": "code",
   "execution_count": 4,
   "metadata": {
    "scrolled": false
   },
   "outputs": [
    {
     "name": "stdout",
     "output_type": "stream",
     "text": [
      "L1045 +++$+++ u0 +++$+++ m0 +++$+++ BIANCA +++$+++ They do not!\n",
      "L1044 +++$+++ u2 +++$+++ m0 +++$+++ CAMERON +++$+++ They do to!\n",
      "L985 +++$+++ u0 +++$+++ m0 +++$+++ BIANCA +++$+++ I hope so.\n",
      "L984 +++$+++ u2 +++$+++ m0 +++$+++ CAMERON +++$+++ She okay?\n",
      "L925 +++$+++ u0 +++$+++ m0 +++$+++ BIANCA +++$+++ Let's go.\n",
      "L924 +++$+++ u2 +++$+++ m0 +++$+++ CAMERON +++$+++ Wow\n",
      "L872 +++$+++ u0 +++$+++ m0 +++$+++ BIANCA +++$+++ Okay -- you're gonna need to learn how to lie.\n",
      "L871 +++$+++ u2 +++$+++ m0 +++$+++ CAMERON +++$+++ No\n"
     ]
    }
   ],
   "source": [
    "# Visual some lines\n",
    "with open(lines_filepath, 'r') as file:\n",
    "    lines = file.readlines()\n",
    "for line in lines[:8]:\n",
    "    print (line.strip())"
   ]
  },
  {
   "cell_type": "code",
   "execution_count": 5,
   "metadata": {},
   "outputs": [],
   "source": [
    "# Split each line of the file into a dictionary of fields (lineID, characterID, moiveID, character, text)\n",
    "\n",
    "line_fields = ['lineID', 'characterID', 'movieID', 'character', 'text']\n",
    "lines = {}\n",
    "with open(lines_filepath, 'r', encoding='iso-8859-1') as f:\n",
    "    for line in f:\n",
    "        \n",
    "        values = line.split(' +++$+++ ')\n",
    "        \n",
    "        # Extract Field\n",
    "        lineObj = {}\n",
    "        for i, field in enumerate(line_fields):\n",
    "            lineObj[field] = values[i]\n",
    "        \n",
    "        lines[lineObj['lineID']] = lineObj"
   ]
  },
  {
   "cell_type": "code",
   "execution_count": 6,
   "metadata": {},
   "outputs": [
    {
     "data": {
      "text/plain": [
       "('L1045',\n",
       " {'lineID': 'L1045',\n",
       "  'characterID': 'u0',\n",
       "  'movieID': 'm0',\n",
       "  'character': 'BIANCA',\n",
       "  'text': 'They do not!\\n'})"
      ]
     },
     "execution_count": 6,
     "metadata": {},
     "output_type": "execute_result"
    }
   ],
   "source": [
    "list(lines.items())[0]"
   ]
  },
  {
   "cell_type": "code",
   "execution_count": 7,
   "metadata": {},
   "outputs": [],
   "source": [
    "# Groups fields of lines from 'loadLines' into conversations based on 'movie_conversations.txt'\n",
    "\n",
    "conv_fields = ['character1ID', 'character2ID', 'movieID', 'utteranceIDs']\n",
    "conversations = []\n",
    "\n",
    "with open(conv_filepath, 'r', encoding='iso-8859-1') as f:\n",
    "    for line in f:\n",
    "        \n",
    "        values = line.split(' +++$+++ ')\n",
    "        #Extract field \n",
    "        \n",
    "        convObj = {}\n",
    "        for i, field in enumerate(conv_fields):\n",
    "            convObj[field] = values[i]\n",
    "            \n",
    "        # convert string result from split to list, since convObj['utteranceIDs'] == \"['L598485', 'L598486']\"\n",
    "        lineIds = eval(convObj['utteranceIDs'])\n",
    "        \n",
    "        #Reassamble lines\n",
    "        convObj['lines'] = []\n",
    "        for lineId in lineIds:\n",
    "            convObj['lines'].append(lines[lineId])\n",
    "        conversations.append(convObj)"
   ]
  },
  {
   "cell_type": "code",
   "execution_count": 8,
   "metadata": {},
   "outputs": [],
   "source": [
    "# Extracts pairs of sentecnces from conversations\n",
    "qa_pairs = []\n",
    "for conversation in conversations:\n",
    "    \n",
    "    for i in range(len(conversation['lines']) - 1 ):\n",
    "        inputLine = conversation['lines'][i]['text'].strip()\n",
    "        targetLine = conversation['lines'][i+1]['text'].strip()\n",
    "        \n",
    "        #Filter wrong samples (if one of the lists is empty)\n",
    "        if inputLine and targetLine:\n",
    "            qa_pairs.append([inputLine, targetLine])"
   ]
  },
  {
   "cell_type": "code",
   "execution_count": 9,
   "metadata": {},
   "outputs": [
    {
     "name": "stdout",
     "output_type": "stream",
     "text": [
      "\n",
      "Writing newly fromatted file...\n",
      "Done writing to file\n"
     ]
    }
   ],
   "source": [
    "# Define path to new file\n",
    "datafile = os.path.join('cornell movie-dialogs corpus', 'formatted_movie_lines.txt')\n",
    "delimiter = '\\t'\n",
    "\n",
    "#Unescape the delimeter\n",
    "delimiter = str(codecs.decode(delimiter, \"unicode_escape\"))\n",
    "\n",
    "# Write new csv file\n",
    "print (\"\\nWriting newly fromatted file...\")\n",
    "with open(datafile, 'w', encoding='utf-8') as outputfile:\n",
    "    writer = csv.writer(outputfile, delimiter=delimiter)\n",
    "    for pair in qa_pairs:\n",
    "        writer.writerow(pair)\n",
    "        \n",
    "print (\"Done writing to file\")"
   ]
  },
  {
   "cell_type": "code",
   "execution_count": 10,
   "metadata": {},
   "outputs": [
    {
     "name": "stdout",
     "output_type": "stream",
     "text": [
      "b\"Can we make this quick?  Roxanne Korrine and Andrew Barrett are having an incredibly horrendous public break- up on the quad.  Again.\\tWell, I thought we'd start with pronunciation, if that's okay with you.\\r\\r\\n\"\n",
      "b\"Well, I thought we'd start with pronunciation, if that's okay with you.\\tNot the hacking and gagging and spitting part.  Please.\\r\\r\\n\"\n",
      "b\"Not the hacking and gagging and spitting part.  Please.\\tOkay... then how 'bout we try out some French cuisine.  Saturday?  Night?\\r\\r\\n\"\n",
      "b\"You're asking me out.  That's so cute. What's your name again?\\tForget it.\\r\\r\\n\"\n",
      "b\"No, no, it's my fault -- we didn't have a proper introduction ---\\tCameron.\\r\\r\\n\"\n",
      "b\"Cameron.\\tThe thing is, Cameron -- I'm at the mercy of a particularly hideous breed of loser.  My sister.  I can't date until she does.\\r\\r\\n\"\n",
      "b\"The thing is, Cameron -- I'm at the mercy of a particularly hideous breed of loser.  My sister.  I can't date until she does.\\tSeems like she could get a date easy enough...\\r\\r\\n\"\n",
      "b'Why?\\tUnsolved mystery.  She used to be really popular when she started high school, then it was just like she got sick of it or something.\\r\\r\\n'\n"
     ]
    }
   ],
   "source": [
    "# Visualize some lines\n",
    "datafile = os.path.join('cornell movie-dialogs corpus','formatted_movie_lines.txt')\n",
    "with open(datafile, 'rb') as file:\n",
    "    lines = file.readlines()\n",
    "for line in lines[:8]:\n",
    "    print (line)"
   ]
  },
  {
   "cell_type": "markdown",
   "metadata": {},
   "source": [
    "### Processing the Words"
   ]
  },
  {
   "cell_type": "code",
   "execution_count": 11,
   "metadata": {},
   "outputs": [],
   "source": [
    "PAD_token = 0 # Used for padding short sentences\n",
    "SOS_token = 1 # Start-of-sentence token <START>\n",
    "EOS_token = 2 # End-of-sentence token <END>\n",
    "\n",
    "class Vocabulary:\n",
    "    \n",
    "    def __init__(self, name):\n",
    "        \n",
    "        self.name = name\n",
    "        self.word2index = {}\n",
    "        self.word2count = {}\n",
    "        self.index2word = {PAD_token: 'PAD', SOS_token: 'SOS', EOS_token: 'EOS'}\n",
    "        self.num_words = 3 # Count SOS, EOS, PAD\n",
    "        \n",
    "    def addSentence(self, sentence):\n",
    "        for word in sentence.split(' '):\n",
    "            self.addWord(word)\n",
    "            \n",
    "    def addWord(self, word):\n",
    "        \n",
    "        if word not in self.word2index:\n",
    "            self.word2index[word] = self.num_words\n",
    "            self.word2count[word] = 1\n",
    "            self.index2word[self.num_words] = word\n",
    "            self.num_words += 1\n",
    "            \n",
    "        else:\n",
    "            self.word2count[word] += 1\n",
    "            \n",
    "    # Remove the words below a certain count threshold        \n",
    "    def trim(self, min_count):\n",
    "        \n",
    "        keep_words = []\n",
    "        for k, v in self.word2count.items():\n",
    "            if v >= min_count:\n",
    "                keep_words.append(k)\n",
    "                \n",
    "        print ('keep_words {} / {} = {:.4f}'.format(len(keep_words), len(self.word2index), len(keep_words) / len(self.word2index)))\n",
    "\n",
    "        # Reinitialize dictionaries\n",
    "        self.word2index = {}\n",
    "        self.word2count = {}\n",
    "        self.index2word = {PAD_token: \"PAD\", SOS_token: \"SOS\", EOS_token: \"EOS\"}\n",
    "        self.num_words = 3 # Count default tokens\n",
    "          \n",
    "        for word in keep_words:\n",
    "            self.addWord(word)\n",
    "        "
   ]
  },
  {
   "cell_type": "code",
   "execution_count": 12,
   "metadata": {},
   "outputs": [],
   "source": [
    "# Turn a Unicode string to plain ASCII and 'NFD' stands for normal form decomposed\n",
    "def unicodeToAscii(s):\n",
    "    return ''.join(c for c in unicodedata.normalize('NFD', s) if unicodedata.category(c) != 'Mn')"
   ]
  },
  {
   "cell_type": "code",
   "execution_count": 13,
   "metadata": {},
   "outputs": [
    {
     "data": {
      "text/plain": [
       "'Ataturk'"
      ]
     },
     "execution_count": 13,
     "metadata": {},
     "output_type": "execute_result"
    }
   ],
   "source": [
    "unicodeToAscii('Atatürk')"
   ]
  },
  {
   "cell_type": "code",
   "execution_count": 14,
   "metadata": {},
   "outputs": [],
   "source": [
    "def normalizeString(s):\n",
    "    s = unicodeToAscii(s.lower().strip())\n",
    "    # Replace any .!? by a whitespace + the character --> '!' = ' !'. \\1 means the first bracketed group --> [.!?]. r is to\n",
    "    # not consider \\1 as a character (r to escape a backslash).\n",
    "    s = re.sub(r'([.!?])',r' \\1', s)\n",
    "    \n",
    "    # Remove any character that is not a sequence of lower or upper case letters. + means one or more\n",
    "    s = re.sub(r'[^a-zA-Z.!?]+', r' ', s)\n",
    "    # Remove a sequence of whitespace characters\n",
    "    s = re.sub(r'\\s+', r' ', s).strip()\n",
    "    return s"
   ]
  },
  {
   "cell_type": "code",
   "execution_count": 15,
   "metadata": {},
   "outputs": [
    {
     "data": {
      "text/plain": [
       "'aa aa !s s dd ?'"
      ]
     },
     "execution_count": 15,
     "metadata": {},
     "output_type": "execute_result"
    }
   ],
   "source": [
    "# Test the function \n",
    "normalizeString(\"aa123aa!s's  dd?\")"
   ]
  },
  {
   "cell_type": "code",
   "execution_count": 16,
   "metadata": {},
   "outputs": [
    {
     "name": "stdout",
     "output_type": "stream",
     "text": [
      "Reading and processing file... Please Wait\n",
      "Done Reading!\n"
     ]
    }
   ],
   "source": [
    "datafile = os.path.join('cornell movie-dialogs corpus', 'formatted_movie_lines.txt')\n",
    "\n",
    "# Read the file and split it into lines\n",
    "print(\"Reading and processing file... Please Wait\")\n",
    "lines = open(datafile, encoding='utf-8').read().strip().split('\\n')\n",
    "\n",
    "# Split every line into pairs and normalize\n",
    "pairs = [[normalizeString(s) for s in pair.split('\\t')] for pair in lines]\n",
    "\n",
    "print ('Done Reading!')\n",
    "\n",
    "voc = Vocabulary('cornell movie-dialogs corpus')"
   ]
  },
  {
   "cell_type": "markdown",
   "metadata": {},
   "source": [
    "## Filtering the Text"
   ]
  },
  {
   "cell_type": "code",
   "execution_count": 17,
   "metadata": {},
   "outputs": [],
   "source": [
    "# Returns True if both sentences in a pair 'p' are under the MAX_LENGTH threshold\n",
    "MAX_LENGTH = 10 # Maximum sentence length to consider max words)\n",
    "\n",
    "def filterPair(p):\n",
    "    \n",
    "    # Input sequences need to presever the last word for EOS taken\n",
    "    return len(p[0].split()) < MAX_LENGTH and len(p[1].split()) < MAX_LENGTH\n",
    "\n",
    "# Filter pairs using filterPair condition\n",
    "def filterPairs(pairs):\n",
    "    return [pair for pair in pairs if filterPair(pair)]\n"
   ]
  },
  {
   "cell_type": "code",
   "execution_count": 18,
   "metadata": {
    "scrolled": true
   },
   "outputs": [
    {
     "name": "stdout",
     "output_type": "stream",
     "text": [
      "There are 221282 pairs/conversations in the dataset\n",
      "After filtering, there are 64271 pairs/conversations in the dataset\n"
     ]
    }
   ],
   "source": [
    "pairs = [pair for pair in pairs if len(pair)> 1]\n",
    "print (\"There are {} pairs/conversations in the dataset\".format(len(pairs)))\n",
    "pairs = filterPairs(pairs)\n",
    "print (\"After filtering, there are {} pairs/conversations in the dataset\".format(len(pairs)))\n"
   ]
  },
  {
   "cell_type": "markdown",
   "metadata": {},
   "source": [
    "## Getting Rid of the Rare Words"
   ]
  },
  {
   "cell_type": "code",
   "execution_count": 19,
   "metadata": {},
   "outputs": [
    {
     "name": "stdout",
     "output_type": "stream",
     "text": [
      "Counted words: 18008\n",
      "['there .', 'where ?']\n",
      "['you have my word . as a gentleman', 'you re sweet .']\n",
      "['hi .', 'looks like things worked out tonight huh ?']\n",
      "['you know chastity ?', 'i believe we share an art instructor']\n",
      "['have fun tonight ?', 'tons']\n",
      "['well no . . .', 'then that s all you had to say .']\n",
      "['then that s all you had to say .', 'but']\n",
      "['but', 'you always been this selfish ?']\n",
      "['do you listen to this crap ?', 'what crap ?']\n",
      "['what good stuff ?', 'the real you .']\n"
     ]
    }
   ],
   "source": [
    "# Loop through each pair of and add the quesiton and reply sentence to the vocabulary\n",
    "\n",
    "for pair in pairs:\n",
    "    voc.addSentence(pair[0])\n",
    "    voc.addSentence(pair[1])\n",
    "    \n",
    "print(\"Counted words:\", voc.num_words)\n",
    "\n",
    "for pair in pairs[:10]:\n",
    "    print (pair)"
   ]
  },
  {
   "cell_type": "code",
   "execution_count": 20,
   "metadata": {},
   "outputs": [
    {
     "name": "stdout",
     "output_type": "stream",
     "text": [
      "keep_words 7823 / 18005 = 0.4345\n",
      "Trimmed from 64271 pairs to 53165, 0.827200 of total\n"
     ]
    }
   ],
   "source": [
    "MIN_COUNT = 3 # Minimum word count threshold for trimming\n",
    "\n",
    "def trimRareWords(voc, pairs, MIN_COUNT):\n",
    "    \n",
    "    # Trim words used under the MIN_COUNT from the voc\n",
    "    voc.trim(MIN_COUNT)\n",
    "    # Filter out pairs with trimmed words\n",
    "    keep_pairs = []\n",
    "    for pair in pairs:\n",
    "        \n",
    "        input_sentence = pair[0]\n",
    "        output_sentence = pair[1]\n",
    "        keep_input = True\n",
    "        keep_output = True\n",
    "        \n",
    "        # Check input sentence\n",
    "        for word in input_sentence.split(' '):\n",
    "            if word not in voc.word2index:\n",
    "                keep_input = False\n",
    "                break\n",
    "                \n",
    "        # Check output sentence\n",
    "        for word in output_sentence.split(' '):\n",
    "            if word not in voc.word2index:\n",
    "                keep_output = False\n",
    "                break\n",
    "                \n",
    "        # Only keep pairs that do not contain trimmed word(s) in their input input or output sentence\n",
    "        if keep_input and keep_output:\n",
    "            keep_pairs.append(pairs)\n",
    "            \n",
    "    print (\"Trimmed from {} pairs to {}, {:4f} of total\".format(len(pairs), len(keep_pairs), len(keep_pairs) / len(pairs)))\n",
    "    return keep_pairs\n",
    "# trim voc and pairs\n",
    "pairs = trimRareWords(voc, pairs, MIN_COUNT)"
   ]
  },
  {
   "cell_type": "markdown",
   "metadata": {},
   "source": [
    "## Preparing the Data"
   ]
  },
  {
   "cell_type": "code",
   "execution_count": 20,
   "metadata": {},
   "outputs": [],
   "source": [
    "def indexesFromSentence(voc, sentence):\n",
    "    return [voc.word2index[word] for word in sentence.split(' ')] + [EOS_token]\n"
   ]
  },
  {
   "cell_type": "code",
   "execution_count": 21,
   "metadata": {},
   "outputs": [
    {
     "data": {
      "text/plain": [
       "'you have my word . as a gentleman'"
      ]
     },
     "execution_count": 21,
     "metadata": {},
     "output_type": "execute_result"
    }
   ],
   "source": [
    "pairs[1][0]"
   ]
  },
  {
   "cell_type": "code",
   "execution_count": 22,
   "metadata": {},
   "outputs": [
    {
     "data": {
      "text/plain": [
       "[7, 8, 9, 10, 4, 11, 12, 13, 2]"
      ]
     },
     "execution_count": 22,
     "metadata": {},
     "output_type": "execute_result"
    }
   ],
   "source": [
    "# Test the function\n",
    "indexesFromSentence(voc,pairs[1][0])"
   ]
  },
  {
   "cell_type": "code",
   "execution_count": 23,
   "metadata": {
    "scrolled": false
   },
   "outputs": [
    {
     "name": "stdout",
     "output_type": "stream",
     "text": [
      "['there .', 'you have my word . as a gentleman', 'hi .', 'you know chastity ?', 'have fun tonight ?', 'well no . . .', 'then that s all you had to say .', 'but', 'do you listen to this crap ?', 'what good stuff ?']\n",
      "10\n"
     ]
    },
    {
     "data": {
      "text/plain": [
       "[[3, 4, 2],\n",
       " [7, 8, 9, 10, 4, 11, 12, 13, 2],\n",
       " [16, 4, 2],\n",
       " [7, 24, 25, 6, 2],\n",
       " [8, 33, 22, 6, 2],\n",
       " [35, 36, 4, 4, 4, 2],\n",
       " [37, 38, 39, 40, 7, 41, 42, 43, 4, 2],\n",
       " [44, 2],\n",
       " [49, 7, 50, 42, 47, 51, 6, 2],\n",
       " [52, 53, 54, 6, 2]]"
      ]
     },
     "execution_count": 23,
     "metadata": {},
     "output_type": "execute_result"
    }
   ],
   "source": [
    "# Define some samples for testing\n",
    "inp = []\n",
    "out = []\n",
    "\n",
    "for pair in pairs[:10]:\n",
    "    inp.append(pair[0])\n",
    "    out.append(pair[1])\n",
    "    \n",
    "print (inp)\n",
    "print (len(inp))\n",
    "\n",
    "indexes = [indexesFromSentence(voc, sentence) for sentence in inp]\n",
    "indexes"
   ]
  },
  {
   "cell_type": "markdown",
   "metadata": {},
   "source": [
    "## Understading the Zip Function"
   ]
  },
  {
   "cell_type": "markdown",
   "metadata": {},
   "source": [
    "#### code snippets before _zeroPadding__ are rough."
   ]
  },
  {
   "cell_type": "code",
   "execution_count": 24,
   "metadata": {},
   "outputs": [
    {
     "data": {
      "text/plain": [
       "[('A', 1), ('B', 2), ('C', 3)]"
      ]
     },
     "execution_count": 24,
     "metadata": {},
     "output_type": "execute_result"
    }
   ],
   "source": [
    "a = ['A','B','C'] # in case of ['A','B','C', 'D', 'E'] 'D' and 'E' will be ignored.\n",
    "b = [1,2,3]\n",
    "list(zip(a,b))"
   ]
  },
  {
   "cell_type": "code",
   "execution_count": 25,
   "metadata": {},
   "outputs": [
    {
     "data": {
      "text/plain": [
       "[('A', 1), ('B', 2), ('C', 3), ('D', None), ('E', None)]"
      ]
     },
     "execution_count": 25,
     "metadata": {},
     "output_type": "execute_result"
    }
   ],
   "source": [
    "a = ['A','B','C', 'D', 'E'] # in case of ['A','B','C', 'D', 'E'] 'D' and 'E' will not be ignored.\n",
    "b = [1,2,3]\n",
    "list(itertools.zip_longest(a,b))"
   ]
  },
  {
   "cell_type": "code",
   "execution_count": 26,
   "metadata": {},
   "outputs": [
    {
     "data": {
      "text/plain": [
       "[(3, 7, 16, 7, 8, 35, 37, 44, 49, 52),\n",
       " (4, 8, 4, 24, 33, 36, 38, 2, 7, 53),\n",
       " (2, 9, 2, 25, 22, 4, 39, 0, 50, 54),\n",
       " (0, 10, 0, 6, 6, 4, 40, 0, 42, 6),\n",
       " (0, 4, 0, 2, 2, 4, 7, 0, 47, 2),\n",
       " (0, 11, 0, 0, 0, 2, 41, 0, 51, 0),\n",
       " (0, 12, 0, 0, 0, 0, 42, 0, 6, 0),\n",
       " (0, 13, 0, 0, 0, 0, 43, 0, 2, 0),\n",
       " (0, 2, 0, 0, 0, 0, 4, 0, 0, 0),\n",
       " (0, 0, 0, 0, 0, 0, 2, 0, 0, 0)]"
      ]
     },
     "execution_count": 26,
     "metadata": {},
     "output_type": "execute_result"
    }
   ],
   "source": [
    "a = [[3, 4, 2],\n",
    " [7, 8, 9, 10, 4, 11, 12, 13, 2],\n",
    " [16, 4, 2],\n",
    " [7, 24, 25, 6, 2],\n",
    " [8, 33, 22, 6, 2],\n",
    " [35, 36, 4, 4, 4, 2],\n",
    " [37, 38, 39, 40, 7, 41, 42, 43, 4, 2],\n",
    " [44, 2],\n",
    " [49, 7, 50, 42, 47, 51, 6, 2],\n",
    " [52, 53, 54, 6, 2]]\n",
    "\n",
    "list(itertools.zip_longest(*a, fillvalue = 0)) # To fill the None values with the 0 'fillvalue = 0'"
   ]
  },
  {
   "cell_type": "code",
   "execution_count": 27,
   "metadata": {},
   "outputs": [],
   "source": [
    "def zeroPadding(l, fillvalue = 0):    \n",
    "    return list(itertools.zip_longest(*l, fillvalue=fillvalue))"
   ]
  },
  {
   "cell_type": "code",
   "execution_count": 28,
   "metadata": {},
   "outputs": [
    {
     "data": {
      "text/plain": [
       "10"
      ]
     },
     "execution_count": 28,
     "metadata": {},
     "output_type": "execute_result"
    }
   ],
   "source": [
    "leng = [len(ind) for ind in indexes]\n",
    "max(leng)"
   ]
  },
  {
   "cell_type": "code",
   "execution_count": 29,
   "metadata": {},
   "outputs": [
    {
     "name": "stdout",
     "output_type": "stream",
     "text": [
      "10\n"
     ]
    },
    {
     "data": {
      "text/plain": [
       "[(3, 7, 16, 7, 8, 35, 37, 44, 49, 52),\n",
       " (4, 8, 4, 24, 33, 36, 38, 2, 7, 53),\n",
       " (2, 9, 2, 25, 22, 4, 39, 0, 50, 54),\n",
       " (0, 10, 0, 6, 6, 4, 40, 0, 42, 6),\n",
       " (0, 4, 0, 2, 2, 4, 7, 0, 47, 2),\n",
       " (0, 11, 0, 0, 0, 2, 41, 0, 51, 0),\n",
       " (0, 12, 0, 0, 0, 0, 42, 0, 6, 0),\n",
       " (0, 13, 0, 0, 0, 0, 43, 0, 2, 0),\n",
       " (0, 2, 0, 0, 0, 0, 4, 0, 0, 0),\n",
       " (0, 0, 0, 0, 0, 0, 2, 0, 0, 0)]"
      ]
     },
     "execution_count": 29,
     "metadata": {},
     "output_type": "execute_result"
    }
   ],
   "source": [
    "# Test the function\n",
    "test_result = zeroPadding(indexes)\n",
    "print (len(test_result)) # The max length is now the number of rows\n",
    "test_result"
   ]
  },
  {
   "cell_type": "code",
   "execution_count": 30,
   "metadata": {},
   "outputs": [],
   "source": [
    "def binaryMatrix(l, value=0):\n",
    "    \n",
    "    m = []\n",
    "    for i , seq in enumerate(l):\n",
    "        m.append([])\n",
    "        for token in seq:   \n",
    "            if token == PAD_token:\n",
    "                m[i].append(0)\n",
    "            else:\n",
    "                m[i].append(1)\n",
    "                \n",
    "    return m\n"
   ]
  },
  {
   "cell_type": "code",
   "execution_count": 31,
   "metadata": {},
   "outputs": [
    {
     "data": {
      "text/plain": [
       "[[1, 1, 1, 1, 1, 1, 1, 1, 1, 1],\n",
       " [1, 1, 1, 1, 1, 1, 1, 1, 1, 1],\n",
       " [1, 1, 1, 1, 1, 1, 1, 0, 1, 1],\n",
       " [0, 1, 0, 1, 1, 1, 1, 0, 1, 1],\n",
       " [0, 1, 0, 1, 1, 1, 1, 0, 1, 1],\n",
       " [0, 1, 0, 0, 0, 1, 1, 0, 1, 0],\n",
       " [0, 1, 0, 0, 0, 0, 1, 0, 1, 0],\n",
       " [0, 1, 0, 0, 0, 0, 1, 0, 1, 0],\n",
       " [0, 1, 0, 0, 0, 0, 1, 0, 0, 0],\n",
       " [0, 0, 0, 0, 0, 0, 1, 0, 0, 0]]"
      ]
     },
     "execution_count": 31,
     "metadata": {},
     "output_type": "execute_result"
    }
   ],
   "source": [
    "binary_result = binaryMatrix(test_result)\n",
    "binary_result"
   ]
  },
  {
   "cell_type": "code",
   "execution_count": 32,
   "metadata": {},
   "outputs": [],
   "source": [
    "# Returns padded input sequence tensor and as well as a tensor of lengths for each of the sequences in the batch\n",
    "def inputVar(l, voc):\n",
    "    indexes_batch =  [indexesFromSentence(voc, sentence) for sentence in l]\n",
    "    lengths = torch.tensor([len(indexes) for indexes in indexes_batch])\n",
    "    padList = zeroPadding(indexes_batch)\n",
    "    padVar = torch.LongTensor(padList)\n",
    "    return padVar, lengths"
   ]
  },
  {
   "cell_type": "code",
   "execution_count": 33,
   "metadata": {},
   "outputs": [],
   "source": [
    "# Returns padded target sequence tensor, padding mask, and max target length\n",
    "def outputVar(l, voc):\n",
    "    \n",
    "    indexes_batch = [indexesFromSentence(voc, sentence) for sentence in l]\n",
    "    max_target_len = max([len(indexes) for indexes in indexes_batch])\n",
    "    padList = zeroPadding(indexes_batch)\n",
    "    mask = binaryMatrix(padList)\n",
    "    mask = torch.ByteTensor(mask)\n",
    "    padVar = torch.LongTensor(padList)\n",
    "    return padVar, mask, max_target_len"
   ]
  },
  {
   "cell_type": "code",
   "execution_count": 34,
   "metadata": {},
   "outputs": [],
   "source": [
    "# Returns all items for a given batch of pairs\n",
    "def batch2TrainData(voc, pair_batch):\n",
    "    \n",
    "    # Sort the questions in descending length\n",
    "    pair_batch.sort(key=lambda x: len(x[0].split(\" \")), reverse=True)\n",
    "    input_batch, output_batch = [], []\n",
    "    for pair in pair_batch:\n",
    "        \n",
    "        input_batch.append(pair[0])\n",
    "        output_batch.append(pair[1])\n",
    "        \n",
    "    inp, lengths = inputVar(input_batch, voc)\n",
    "    #assert len(inp) == lengths[0]\n",
    "    \n",
    "    output, mask, max_target_len = outputVar(output_batch, voc)\n",
    "    return inp, lengths, output, mask, max_target_len\n",
    "    \n",
    "    "
   ]
  },
  {
   "cell_type": "code",
   "execution_count": 35,
   "metadata": {
    "scrolled": true
   },
   "outputs": [
    {
     "name": "stdout",
     "output_type": "stream",
     "text": [
      "input_variable:\n",
      "tensor([[   7,   96,   26, 3879,  130],\n",
      "        [ 124,   28,   99, 4291,   38],\n",
      "        [ 180,  166,  340,   69,    2],\n",
      "        [7932,    6,    4,    2,    0],\n",
      "        [   6,    2,    2,    0,    0],\n",
      "        [   2,    0,    0,    0,    0]])\n",
      "lengths: tensor([6, 5, 5, 4, 3])\n",
      "target_variable:\n",
      "tensor([[   28,   351,  4960,   336,    52],\n",
      "        [   99,     4,   461,     4,    71],\n",
      "        [  117,     2,     7,     2,     7],\n",
      "        [  237,     0,   720,     0,   285],\n",
      "        [   47,     0,    12,     0,   255],\n",
      "        [12647,     0,  4958,     0,    38],\n",
      "        [    4,     0,     4,     0,     6],\n",
      "        [    2,     0,     2,     0,     2]])\n",
      "mask:\n",
      "tensor([[1, 1, 1, 1, 1],\n",
      "        [1, 1, 1, 1, 1],\n",
      "        [1, 1, 1, 1, 1],\n",
      "        [1, 0, 1, 0, 1],\n",
      "        [1, 0, 1, 0, 1],\n",
      "        [1, 0, 1, 0, 1],\n",
      "        [1, 0, 1, 0, 1],\n",
      "        [1, 0, 1, 0, 1]], dtype=torch.uint8)\n",
      "max_target_len 8\n"
     ]
    }
   ],
   "source": [
    "# Example for validation \n",
    "small_batch_size = 5\n",
    "batches = batch2TrainData(voc, [random.choice(pairs) for _ in range(small_batch_size)])\n",
    "input_variable, lengths, target_variable, mask, max_target_len = batches\n",
    "\n",
    "print (\"input_variable:\")\n",
    "print (input_variable)\n",
    "print (\"lengths:\", lengths)\n",
    "print (\"target_variable:\")\n",
    "print (target_variable)\n",
    "print (\"mask:\")\n",
    "print (mask)\n",
    "print (\"max_target_len\", max_target_len)\n"
   ]
  },
  {
   "cell_type": "markdown",
   "metadata": {},
   "source": [
    "## Encoder"
   ]
  },
  {
   "cell_type": "code",
   "execution_count": 36,
   "metadata": {},
   "outputs": [],
   "source": [
    "class EncoderRNN(nn.Module):\n",
    "    def __init__(self, hidden_size, embedding, n_layers=1, dropout=0):\n",
    "        super(EncoderRNN, self).__init__()\n",
    "        self.n_layers = n_layers\n",
    "        self.hidden_size = hidden_size\n",
    "        self.embedding = embedding\n",
    "        # Initialize GRU: the input_size and hidden_size parameters are both set to 'hidden_size'\n",
    "        # because our input size is a word embedding with number of features == hidden_size\n",
    "        self.gru = nn.GRU(hidden_size, hidden_size, n_layers, dropout=(0 if n_layers == 1 else dropout), bidirectional=True)\n",
    "        \n",
    "    def forward(self, input_seq, input_lengths, hidden=None):\n",
    "        # input_seq: batch of input sentences: shape=(max_length, batch_size)\n",
    "        # input_lengths: List of sentence lengths corresponding to each sentence in the batch\n",
    "        # hidden state, of shape: (n_layers x num_directions, batch_size, hidden_size)\n",
    "        # Convert word indexes to embeddings\n",
    "        embedded = self.embedding(input_seq)\n",
    "        # Pack padded batch of sequences for RNN module\n",
    "        packed = torch.nn.utils.rnn.pack_padded_sequence(embedded, input_lengths)\n",
    "        # Forward pass through GRU\n",
    "        outputs,hidden = self.gru(packed, hidden)\n",
    "        # Unpack padding\n",
    "        outputs, _ = torch.nn.utils.rnn.pad_packed_sequence(outputs)\n",
    "        # Sum bidirectional GRU outputs\n",
    "        outputs = outputs[:, :, :self.hidden_size] + outputs[:, :, self.hidden_size:]\n",
    "        # Return output and final hidden state\n",
    "        return outputs, hidden\n",
    "        # outputs: the output features h_t from the last layer of the GRU, for each timestep (sum of bidirectional outputs)\n",
    "        # outputs: shape=(max_length, batch_size, hidden_size)\n",
    "        # hidden: hidden state for the last timestep, of shape=(n_layers x num_directions, batch_size, hidden_size)"
   ]
  },
  {
   "cell_type": "code",
   "execution_count": 37,
   "metadata": {},
   "outputs": [],
   "source": [
    "# Luong attention layer\n",
    "class Attn(torch.nn.Module):\n",
    "    def __init__(self, method, hidden_size):\n",
    "        super(Attn, self).__init__()\n",
    "        self.method = method\n",
    "        self.hidden_size = hidden_size\n",
    "        \n",
    "    def dot_score(self, hidden, encoder_output):\n",
    "        # Element-Wise Multiply the current target decoder state with the encoder output and sum them\n",
    "        return torch.sum(hidden * encoder_output, dim=2)\n",
    "    \n",
    "    def forward(self, hidden, encoder_outputs):\n",
    "        # hidden of shape: (1, batch_size, hidden_size)\n",
    "        # encoder_outputs of shape: (max_length, batch_size, hidden_size) \n",
    "        # (1, batch_size, hidden_size) * (max_length, batch_size, hidden_size) = (max_length, batch_size, hidden_size)\n",
    "        \n",
    "        # Calculate the attention weights (energies)\n",
    "        attn_energies = self.dot_score(hidden, encoder_outputs) # (max_length, batch_size)\n",
    "        # Transpose max_length and batch_size dimentions \n",
    "        attn_energies = attn_energies.t()                       # (batch_size, max_length)\n",
    "        # Return the softmax normalized probability scores (with added dimension)\n",
    "        return F.softmax(attn_energies, dim=1).unsqueeze(1)     # (batch_size, 1, max_length)"
   ]
  },
  {
   "cell_type": "markdown",
   "metadata": {},
   "source": [
    "For the decoder we will manually feed our batch one time step in a time. This means that our embedded word tensor and GRU output will both have shape (1, batch_size, hidden_size). The steps are: Get embedding of current input word. Forward through unidirectional GRU. Calculate attention weights from the current GRU output. Multiply attention weights to encoder outputs to get new \"weighted sum\" context vector. Concatenate weighted context vector and GRU output. Predict next word, and finally Return output and final hidden state."
   ]
  },
  {
   "cell_type": "code",
   "execution_count": 38,
   "metadata": {},
   "outputs": [],
   "source": [
    "class LuongAttnDecoderRNN(nn.Module):\n",
    "    def __init__(self, attn_model, embedding, hidden_size, output_size, n_layers=1, dropout=0.1):\n",
    "        super(LuongAttnDecoderRNN, self).__init__()\n",
    "        self.attn_model = attn_model\n",
    "        self.hidden_size = hidden_size\n",
    "        self.output_size = output_size\n",
    "        self.n_layers = n_layers\n",
    "        self.dropout = dropout\n",
    "        \n",
    "        # Define layers\n",
    "        self.embedding = embedding\n",
    "        self.embedding_dropout = nn.Dropout(dropout)\n",
    "        self.gru = nn.GRU(hidden_size, hidden_size, n_layers, dropout=(0 if n_layers == 1 else dropout))\n",
    "        self.concat = nn.Linear(hidden_size * 2, hidden_size)\n",
    "        self.out = nn.Linear(hidden_size, output_size)\n",
    "        \n",
    "        self.attn = Attn(attn_model, hidden_size)\n",
    "        \n",
    "    def forward(self, input_step, last_hidden, encoder_outputs):\n",
    "        # input_step: one time step (one word) of input sequence batch; shape=(1, batch_size)\n",
    "        # last_hidden: final hidden layer of GRU; shape=(n_layers x num_directions, batch_size, hidden_size)\n",
    "        # encoder_outputs: encoder model's output; shape=(max_length, batch_size, hidden_size)\n",
    "        # Note: we run this one step (word) at a time\n",
    "        \n",
    "        # Get embedding of current input word\n",
    "        embedded = self.embedding(input_step)\n",
    "        embedded = self.embedding_dropout(embedded)\n",
    "        # Forward through unidirectional GRU\n",
    "        rnn_output, hidden = self.gru(embedded, last_hidden)\n",
    "        # rnn_output of shape: (1, batch, num_direciton * hidden_size)\n",
    "        # hidden of shape: (num_layers * num_directions, batch, hidden_size)\n",
    "        \n",
    "        # Calculate attention weights from the current GRU output\n",
    "        attn_weights = self.attn(rnn_output, encoder_outputs)\n",
    "        # Multiply attention weights to encoder outputs to get new \"weighted sum\" context vector\n",
    "        # (batch_size, 1, max_length) bmm with (batch_size, max_length, hidden) = (batch_size, 1, hidden)\n",
    "        context = attn_weights.bmm(encoder_outputs.transpose(0, 1))\n",
    "        # Concatenate weighted context vector and GRU output\n",
    "        rnn_output = rnn_output.squeeze(0)\n",
    "        context = context.squeeze(1)\n",
    "        concat_input = torch.cat((rnn_output, context), 1)\n",
    "        concat_output = torch.tanh(self.concat(concat_input))\n",
    "        # Predict next word using Luong eq. 6\n",
    "        output = self.out(concat_output)\n",
    "        output = f.softmax(output, dim=1)\n",
    "        # Return output and final hidden state\n",
    "        return output, hidden\n",
    "        # output: softmax normalized tensor giving probabilities of each word being the correct next word in the decoded sequence\n",
    "        # shape (batch_size, voc.num_words)\n",
    "        # hidden: final hidden state of GRU; shape=(n_layers x num_directions batch_size, hidden_size)"
   ]
  },
  {
   "cell_type": "markdown",
   "metadata": {},
   "source": [
    "## We're Done with Building the Architecture, Now Let's move on to the Training code"
   ]
  },
  {
   "cell_type": "markdown",
   "metadata": {},
   "source": [
    "Since we are dealing with batches of padded sequences, we cannot simply consider all elements of the tensor when calculating loss. We define maskLLLoss to calculate our loss based on our decoder's output tensor, the target tensor, and a binary mask tensor describing the padding of the target tensor. This loss function calculates the average negative log likelihood of the elements that correspond to a 1 in the mask tensor."
   ]
  },
  {
   "cell_type": "code",
   "execution_count": 39,
   "metadata": {},
   "outputs": [],
   "source": [
    "def maskNLLLoss(decoder_out, target, mask):\n",
    "    nTotal = mask.sum\n",
    "    target = target.view(-1, 1)\n",
    "    # decoder_out shape: (batch_size, vocab_size), target_size = (batch_size, 1)\n",
    "    gathered_tensor = torch.gather(decoder_out, 1, target)\n",
    "    # Calculate the Negative Log Likelihood Loss\n",
    "    crossEntropy = -torch.log(gathered_tensor)\n",
    "    # Select the non-zero elements\n",
    "    loss = loss.mean()\n",
    "    loss = loss.to(device)\n",
    "    return loss, nTotal.item()"
   ]
  },
  {
   "cell_type": "code",
   "execution_count": null,
   "metadata": {},
   "outputs": [],
   "source": [
    "# Visualizing what's happening in one iteration. Only run this for visualization.\n",
    "small_batch_size = 5\n",
    "batches = batch2TrainData(voc, [random.choice(pairs) for _ in range(small_batch_size)])\n",
    "input_variable, lengths, target_variable, mask, max_target_len = batches\n",
    "\n",
    "print(\"input_variable shape:\", input_variable.shape)\n",
    "print(\"lengths shape:\", lengths.shape)\n",
    "print(\"target_variable shape:\", target_variable.shape)\n",
    "print(\"mask shape:\", mask.shape)\n",
    "print(\"max_target_len:\", max_target_len)\n",
    "\n",
    "# Define the parameters\n",
    "hidden_size = 500\n",
    "encoder_n_layers = 2\n",
    "decoder_n_layers = 2\n",
    "dropout = 0.1\n",
    "attn_model = 'dot'\n",
    "embedding = nn.Embedding(voc.num_words, hidden_size)\n",
    "\n",
    "# Define the encoder and Decoder\n",
    "encoder = EncoderRNN(hidden_size, embedding, encoder_n_layers, dropout)\n",
    "decoder = LuongAttnDecoderRNN(attn_model, embedding, hidden_size, voc.num_words, decoder_n_layers, dropout)\n",
    "encoder = encoder.to(device)\n",
    "decoder = decoder.to(divice)\n",
    "\n",
    "# Ensure dropout layers are in train mode\n",
    "encoder.train()\n",
    "decoder.train()\n",
    "\n",
    "# initialize optimizers\n",
    "encoder_optimizer = optim.Adam(encoder.parameters(), lr = 0.0001)\n",
    "decoder_optimizer = optim.Adam(decoder.parameters(), lr = 0.0001)\n",
    "encoder_optimizer.zero_grad()\n",
    "decoder_optimizer.zero_grad()\n",
    "\n",
    "input_variable = input_variable.to(device)\n",
    "lengths = lengths.to(device)\n",
    "target_variable = target_variable.to(device)\n",
    "mask = mask.to(device)\n",
    "\n",
    "loss = 0\n",
    "print_losses = []\n",
    "n_totals = 0\n",
    "\n",
    "encoder_outputs, encoder_hidden = encoder(input_variable, lengths)\n",
    "print(\"Encoder Outputs Shape:\", encoder_outputs.shape)\n",
    "print(\"Last Encoder Hidden Shape\", encoder_hidden.shape)\n",
    "\n",
    "decoder_input = torch.LongTensor([[SOS_token for _ in range(small_batch_size)]])\n",
    "decoder_input = decoder_input.to(device)\n",
    "print(\"initial Decoder Input Shape:\", decoder_input.shape)\n",
    "print(decoder_input)\n",
    "\n",
    "# set initial decoder hidden state to the encoder's final hidden state\n",
    "decoder_hidden = encoder_hidden[:decoder.n_layers]\n",
    "print(\"Initial Decoder hidden state shape:\", decoder_hidden.shape)\n",
    "print(\"\\n\")\n",
    "print(\"-----------------------------------------------------------------------\")\n",
    "print(\"Now lets look what's happening in every timestep of the GRU!\")\n",
    "print(\"-----------------------------------------------------------------------\")\n",
    "print(\"\\n\")\n",
    "\n",
    "# Assume we are using Teacher Forcing\n"
   ]
  }
 ],
 "metadata": {
  "kernelspec": {
   "display_name": "Python 3",
   "language": "python",
   "name": "python3"
  },
  "language_info": {
   "codemirror_mode": {
    "name": "ipython",
    "version": 3
   },
   "file_extension": ".py",
   "mimetype": "text/x-python",
   "name": "python",
   "nbconvert_exporter": "python",
   "pygments_lexer": "ipython3",
   "version": "3.7.4"
  }
 },
 "nbformat": 4,
 "nbformat_minor": 2
}
